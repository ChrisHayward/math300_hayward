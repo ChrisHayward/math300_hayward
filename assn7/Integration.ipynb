{
 "cells": [
  {
   "cell_type": "code",
   "execution_count": 135,
   "metadata": {},
   "outputs": [],
   "source": [
    "import sympy\n",
    "import numpy as np\n",
    "import matplotlib.pyplot as plt\n",
    "from sympy import symbols\n",
    "from sympy import *\n",
    "x = symbols('x')\n",
    "f = (x**3)*sin(4*x)            #sample function\n",
    "fx = integrate(f, (x, 1, 7))   #sample function integrated from 1 to 7\n",
    "floatfx = float(fx)"
   ]
  },
  {
   "cell_type": "code",
   "execution_count": 106,
   "metadata": {},
   "outputs": [],
   "source": [
    "def mcintegrate(a, b, n, func):\n",
    "    np.random.seed(1)\n",
    "    i = 0\n",
    "    sum = 0\n",
    "    while (i < n):\n",
    "        r = np.random.rand()*(b-a) + a\n",
    "        y = func.subs(x, r)\n",
    "        sum = sum + y.evalf()\n",
    "        i = i+1\n",
    "    return((b-a)*sum/n)"
   ]
  },
  {
   "cell_type": "markdown",
   "metadata": {},
   "source": [
    "The function mcintegrate runs slowly because I used sympy within it, but should allow it to find the solution to any sympy function."
   ]
  },
  {
   "cell_type": "code",
   "execution_count": null,
   "metadata": {},
   "outputs": [],
   "source": [
    "i = 1000\n",
    "res = np.empty(shape=(100, 2))\n",
    "while (i<100001):\n",
    "    t = mcintegrate(1, 7, i, f)\n",
    "    t = abs(floatfx-t)\n",
    "    res[int(i/1000-1)] = [i, t]\n",
    "    i = i+1000\n",
    "plt.plot(res[0:,0], res[0:,1], 'b-')\n",
    "plt.xlabel('Number of samples')\n",
    "plt.ylabel('Error')\n",
    "plt.show()"
   ]
  },
  {
   "cell_type": "markdown",
   "metadata": {},
   "source": [
    "Because the Monte Carlo method requires such high iterations to get reasonable accuracy, a hard-coded mcintegrate would have been much more time efficient."
   ]
  },
  {
   "cell_type": "markdown",
   "metadata": {},
   "source": [
    "In previous versions of the notebook I ran the loop and plot with fewer iterations to test accuracy under different conditions but those cells were removed."
   ]
  }
 ],
 "metadata": {
  "kernelspec": {
   "display_name": "Python 3",
   "language": "python",
   "name": "python3"
  },
  "language_info": {
   "codemirror_mode": {
    "name": "ipython",
    "version": 3
   },
   "file_extension": ".py",
   "mimetype": "text/x-python",
   "name": "python",
   "nbconvert_exporter": "python",
   "pygments_lexer": "ipython3",
   "version": "3.6.1"
  }
 },
 "nbformat": 4,
 "nbformat_minor": 2
}
